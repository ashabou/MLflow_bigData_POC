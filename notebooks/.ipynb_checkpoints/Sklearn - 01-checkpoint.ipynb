{
 "cells": [
  {
   "cell_type": "code",
   "execution_count": 1,
   "id": "2d5804be",
   "metadata": {},
   "outputs": [
    {
     "name": "stdout",
     "output_type": "stream",
     "text": [
      "3.10.18 (main, Jun  4 2025, 08:56:00) [GCC 9.4.0]\n",
      "['40', 'Baseline_LogReg', 'GradientBoosting', 'LogReg_PCA', 'Log_Reg_PCA', 'RandomForest', 'SVC', 'testfile']\n"
     ]
    }
   ],
   "source": [
    "# Cell 1: Setup\n",
    "import mlflow\n",
    "import mlflow.sklearn\n",
    "from sklearn.datasets import load_digits\n",
    "from sklearn.model_selection import train_test_split\n",
    "from sklearn.preprocessing import StandardScaler, label_binarize\n",
    "from sklearn.decomposition import PCA\n",
    "from sklearn.linear_model import LogisticRegression\n",
    "from sklearn.svm import SVC\n",
    "from sklearn.ensemble import RandomForestClassifier, GradientBoostingClassifier\n",
    "from sklearn.metrics import accuracy_score, f1_score, confusion_matrix, ConfusionMatrixDisplay, roc_curve, auc, RocCurveDisplay\n",
    "import matplotlib.pyplot as plt\n",
    "import numpy as np\n",
    "import os\n",
    "import time\n",
    "import uuid\n",
    "import sys\n",
    "print(sys.version)\n",
    "\n",
    "from hdfs import InsecureClient\n",
    "\n",
    "# Connect to HDFS via HTTP\n",
    "client = InsecureClient('http://10.0.2.15:9870', user='gadet')\n",
    "\n",
    "# Test listing artifacts\n",
    "print(client.list('/user/gadet/mlflow/artifacts'))\n",
    "\n",
    "# Load dataset\n",
    "mlflow.set_tracking_uri(\"http://0.0.0.0:5001\")\n",
    "mlflow.set_experiment(\"01 - Sklearn\")\n",
    "digits = load_digits()\n",
    "X, y = digits.data, digits.target\n",
    "n_classes = len(np.unique(y))\n",
    "X_train, X_test, y_train, y_test = train_test_split(X, y, test_size=0.2, random_state=42)\n",
    "\n",
    "# Function to log artifacts to HDFS\n",
    "def log_artifact_hdfs(local_path, hdfs_dir):\n",
    "    \"\"\"\n",
    "    Upload a local file to HDFS and also log it in MLflow UI.\n",
    "    \"\"\"\n",
    "    mlflow.log_artifact(local_path)\n",
    "    \n",
    "    file_name = os.path.basename(local_path)\n",
    "    hdfs_path = os.path.join(hdfs_dir, file_name)\n",
    "    client.upload(hdfs_path, local_path, overwrite=True)\n",
    "    \n",
    "def log_confusion_matrix(y_true, y_pred, run_name):\n",
    "    cm = confusion_matrix(y_true, y_pred)\n",
    "    disp = ConfusionMatrixDisplay(cm, display_labels=range(n_classes))\n",
    "    disp.plot(cmap=\"Blues\", xticks_rotation=45)\n",
    "    plt.title(f\"Confusion Matrix: {run_name}\")\n",
    "    artifact_path = f\"{run_name}_confusion_matrix.png\"\n",
    "    plt.savefig(artifact_path, bbox_inches=\"tight\")\n",
    "    log_artifact_hdfs(artifact_path, f\"/user/gadet/mlflow/artifacts/{run_name}\")\n",
    "    plt.close()\n",
    "    os.remove(artifact_path)\n",
    "    \n",
    "def log_roc_curve(y_true, y_score, run_name):\n",
    "    # Binarize labels for multiclass\n",
    "    y_bin = label_binarize(y_true, classes=range(n_classes))\n",
    "    plt.figure()\n",
    "    for i in range(n_classes):\n",
    "        fpr, tpr, _ = roc_curve(y_bin[:, i], y_score[:, i])\n",
    "        roc_auc = auc(fpr, tpr)\n",
    "        plt.plot(fpr, tpr, lw=2, label=f\"Class {i} (AUC={roc_auc:.2f})\")\n",
    "    plt.plot([0, 1], [0, 1], color=\"navy\", lw=1, linestyle=\"--\")\n",
    "    plt.xlim([0.0, 1.0])\n",
    "    plt.ylim([0.0, 1.05])\n",
    "    plt.xlabel(\"False Positive Rate\")\n",
    "    plt.ylabel(\"True Positive Rate\")\n",
    "    plt.title(f\"ROC Curve: {run_name}\")\n",
    "    plt.legend(loc=\"lower right\", fontsize=\"small\")\n",
    "    artifact_path = f\"{run_name}_roc_curve.png\"\n",
    "    plt.savefig(artifact_path, bbox_inches=\"tight\")\n",
    "    log_artifact_hdfs(artifact_path, f\"/user/gadet/mlflow/artifacts/{run_name}\")\n",
    "    plt.close()\n",
    "    os.remove(artifact_path)\n",
    "    \n",
    "def log_feature_importance(model, run_name):\n",
    "    if hasattr(model, \"feature_importances_\"):\n",
    "        plt.figure(figsize=(10,5))\n",
    "        plt.bar(range(len(model.feature_importances_)), model.feature_importances_)\n",
    "        plt.title(f\"Feature Importance: {run_name}\")\n",
    "        artifact_path = f\"{run_name}_feature_importance.png\"\n",
    "        plt.savefig(artifact_path, bbox_inches=\"tight\")\n",
    "        log_artifact_hdfs(artifact_path, f\"/user/gadet/mlflow/artifacts/{run_name}\")\n",
    "        plt.close()\n",
    "        os.remove(artifact_path)"
   ]
  },
  {
   "cell_type": "code",
   "execution_count": 2,
   "id": "c07400a1",
   "metadata": {},
   "outputs": [
    {
     "name": "stderr",
     "output_type": "stream",
     "text": [
      "/home/gadet/mlflow-venv/lib/python3.10/site-packages/_distutils_hack/__init__.py:33: UserWarning: Setuptools is replacing distutils.\n",
      "  warnings.warn(\"Setuptools is replacing distutils.\")\n"
     ]
    },
    {
     "name": "stdout",
     "output_type": "stream",
     "text": [
      "Baseline Logistic Regression -> acc: 0.975 f1: 0.9751092427666409\n"
     ]
    }
   ],
   "source": [
    "# Cell 2: Baseline Logistic Regression\n",
    "with mlflow.start_run(run_name=\"Baseline Logistic Regression\"):\n",
    "    start = time.time()\n",
    "    model = LogisticRegression(max_iter=1000)\n",
    "    model.fit(X_train, y_train)\n",
    "    end = time.time()\n",
    "    preds = model.predict(X_test)\n",
    "    try:\n",
    "        y_score = model.predict_proba(X_test)\n",
    "    except:\n",
    "        y_score = np.zeros((len(y_test), n_classes))  # fallback if model has no proba\n",
    "    \n",
    "    acc = accuracy_score(y_test, preds)\n",
    "    f1 = f1_score(y_test, preds, average=\"weighted\")\n",
    "\n",
    "    mlflow.log_param(\"model\", \"LogisticRegression\")\n",
    "    mlflow.log_param(\"max_iter\", 1000)\n",
    "    mlflow.log_metric(\"accuracy\", acc)\n",
    "    mlflow.log_metric(\"f1\", f1)\n",
    "    mlflow.log_metric(\"train_time_sec\", end - start)\n",
    "    \n",
    "    mlflow.sklearn.log_model(model, \"model\")\n",
    "    log_confusion_matrix(y_test, preds, \"Baseline_LogReg\")\n",
    "    log_roc_curve(y_test, y_score, \"Baseline_LogReg\")\n",
    "\n",
    "print(\"Baseline Logistic Regression -> acc:\", acc, \"f1:\", f1)"
   ]
  },
  {
   "cell_type": "code",
   "execution_count": 3,
   "id": "e5f5e143",
   "metadata": {},
   "outputs": [
    {
     "name": "stdout",
     "output_type": "stream",
     "text": [
      "LogReg + PCA -> acc: 0.9611111111111111 f1: 0.9611570476091673\n"
     ]
    }
   ],
   "source": [
    "# Cell 3: Logistic Regression + StandardScaler + PCA\n",
    "scaler = StandardScaler()\n",
    "X_train_scaled = scaler.fit_transform(X_train)\n",
    "X_test_scaled = scaler.transform(X_test)\n",
    "pca = PCA(n_components=30)\n",
    "X_train_pca = pca.fit_transform(X_train_scaled)\n",
    "X_test_pca = pca.transform(X_test_scaled)\n",
    "\n",
    "with mlflow.start_run(run_name=\"LogReg + Scaler + PCA\"):\n",
    "    start = time.time()\n",
    "    model = LogisticRegression(max_iter=1000)\n",
    "    model.fit(X_train_pca, y_train)\n",
    "    end = time.time()\n",
    "    preds = model.predict(X_test_pca)\n",
    "    try:\n",
    "        y_score = model.predict_proba(X_test_pca)\n",
    "    except:\n",
    "        y_score = np.zeros((len(y_test), n_classes))\n",
    "    \n",
    "    acc = accuracy_score(y_test, preds)\n",
    "    f1 = f1_score(y_test, preds, average=\"weighted\")\n",
    "\n",
    "    mlflow.log_param(\"model\", \"LogisticRegression\")\n",
    "    mlflow.log_param(\"pca_components\", 30)\n",
    "    mlflow.log_metric(\"accuracy\", acc)\n",
    "    mlflow.log_metric(\"f1\", f1)\n",
    "    mlflow.log_metric(\"train_time_sec\", end - start)\n",
    "    \n",
    "    mlflow.sklearn.log_model(model, \"model\")\n",
    "    log_confusion_matrix(y_test, preds, \"LogReg_PCA\")\n",
    "    log_roc_curve(y_test, y_score, \"LogReg_PCA\")\n",
    "\n",
    "    # PCA explained variance\n",
    "    plt.figure()\n",
    "    plt.plot(range(1, len(pca.explained_variance_ratio_)+1), pca.explained_variance_ratio_, marker='o')\n",
    "    plt.title(\"PCA Explained Variance Ratio\")\n",
    "    plt.xlabel(\"Principal Component\")\n",
    "    plt.ylabel(\"Variance Ratio\")\n",
    "    artifact_path = \"pca_variance.png\"\n",
    "    plt.savefig(artifact_path, bbox_inches=\"tight\")\n",
    "    log_artifact_hdfs(artifact_path, f\"/user/gadet/mlflow/artifacts/LogReg_PCA\")\n",
    "    plt.close()\n",
    "    os.remove(artifact_path)\n",
    "\n",
    "print(\"LogReg + PCA -> acc:\", acc, \"f1:\", f1)"
   ]
  },
  {
   "cell_type": "code",
   "execution_count": 4,
   "id": "fb0e6479",
   "metadata": {},
   "outputs": [
    {
     "name": "stdout",
     "output_type": "stream",
     "text": [
      "SVC -> acc: 0.9805555555555555 f1: 0.9804738636447198\n"
     ]
    }
   ],
   "source": [
    "# Cell 4: SVC with StandardScaler\n",
    "with mlflow.start_run(run_name=\"SVC (RBF Kernel)\"):\n",
    "    start = time.time()\n",
    "    model = SVC(kernel=\"rbf\", C=5, gamma=\"scale\", probability=True)\n",
    "    model.fit(X_train_scaled, y_train)\n",
    "    end = time.time()\n",
    "    preds = model.predict(X_test_scaled)\n",
    "    y_score = model.predict_proba(X_test_scaled)\n",
    "\n",
    "    acc = accuracy_score(y_test, preds)\n",
    "    f1 = f1_score(y_test, preds, average=\"weighted\")\n",
    "\n",
    "    mlflow.log_param(\"model\", \"SVC\")\n",
    "    mlflow.log_param(\"kernel\", \"rbf\")\n",
    "    mlflow.log_param(\"C\", 5)\n",
    "    mlflow.log_metric(\"accuracy\", acc)\n",
    "    mlflow.log_metric(\"f1\", f1)\n",
    "    mlflow.log_metric(\"train_time_sec\", end - start)\n",
    "\n",
    "    mlflow.sklearn.log_model(model, \"model\")\n",
    "    log_confusion_matrix(y_test, preds, \"SVC\")\n",
    "    log_roc_curve(y_test, y_score, \"SVC\")\n",
    "\n",
    "print(\"SVC -> acc:\", acc, \"f1:\", f1)"
   ]
  },
  {
   "cell_type": "code",
   "execution_count": 5,
   "id": "9ee73335",
   "metadata": {},
   "outputs": [
    {
     "name": "stdout",
     "output_type": "stream",
     "text": [
      "RandomForest -> acc: 0.9694444444444444 f1: 0.9694520995149207\n"
     ]
    }
   ],
   "source": [
    "# Cell 5: Random Forest\n",
    "with mlflow.start_run(run_name=\"RandomForest\"):\n",
    "    start = time.time()\n",
    "    model = RandomForestClassifier(n_estimators=200, max_depth=15, random_state=42)\n",
    "    model.fit(X_train, y_train)\n",
    "    end = time.time()\n",
    "    preds = model.predict(X_test)\n",
    "    try:\n",
    "        y_score = model.predict_proba(X_test)\n",
    "    except:\n",
    "        y_score = np.zeros((len(y_test), n_classes))\n",
    "        \n",
    "    acc = accuracy_score(y_test, preds)\n",
    "    f1 = f1_score(y_test, preds, average=\"weighted\")\n",
    "\n",
    "    mlflow.log_param(\"model\", \"RandomForest\")\n",
    "    mlflow.log_param(\"n_estimators\", 200)\n",
    "    mlflow.log_param(\"max_depth\", 15)\n",
    "    mlflow.log_metric(\"accuracy\", acc)\n",
    "    mlflow.log_metric(\"f1\", f1)\n",
    "    mlflow.log_metric(\"train_time_sec\", end - start)\n",
    "    \n",
    "    mlflow.sklearn.log_model(model, \"model\")\n",
    "    log_confusion_matrix(y_test, preds, \"RandomForest\")\n",
    "    log_roc_curve(y_test, y_score, \"RandomForest\")\n",
    "    log_feature_importance(model, \"RandomForest\")\n",
    "\n",
    "print(\"RandomForest -> acc:\", acc, \"f1:\", f1)"
   ]
  },
  {
   "cell_type": "code",
   "execution_count": 6,
   "id": "c075d811",
   "metadata": {},
   "outputs": [
    {
     "name": "stdout",
     "output_type": "stream",
     "text": [
      "GradientBoosting -> acc: 0.975 f1: 0.9750752888378074\n"
     ]
    }
   ],
   "source": [
    "# Cell 6: Gradient Boosting\n",
    "\n",
    "run_name = f\"GradientBoosting-{uuid.uuid4()}\"\n",
    "\n",
    "with mlflow.start_run(run_name=\"GradientBoosting\"):\n",
    "    start = time.time()\n",
    "    model = GradientBoostingClassifier(n_estimators=300, learning_rate=0.1, max_depth=3, random_state=42)\n",
    "    model.fit(X_train, y_train)\n",
    "    end = time.time()\n",
    "    preds = model.predict(X_test)\n",
    "    # GradientBoosting doesn't have predict_proba for multiclass before sklearn 0.24\n",
    "    y_score = model.predict_proba(X_test)\n",
    "    \n",
    "    acc = accuracy_score(y_test, preds)\n",
    "    f1 = f1_score(y_test, preds, average=\"weighted\")\n",
    "\n",
    "    mlflow.log_param(\"model\", \"GradientBoosting\")\n",
    "    mlflow.log_param(\"n_estimators\", 300)\n",
    "    mlflow.log_param(\"learning_rate\", 0.1)\n",
    "    mlflow.log_metric(\"accuracy\", acc)\n",
    "    mlflow.log_metric(\"f1\", f1)\n",
    "    mlflow.log_metric(\"train_time_sec\", end - start)\n",
    "    \n",
    "    mlflow.sklearn.log_model(model, \"model\")\n",
    "    log_confusion_matrix(y_test, preds, \"GradientBoosting\")\n",
    "    log_roc_curve(y_test, y_score, \"GradientBoosting\")\n",
    "    log_feature_importance(model, \"GradientBoosting\")\n",
    "\n",
    "print(\"GradientBoosting -> acc:\", acc, \"f1:\", f1)"
   ]
  }
 ],
 "metadata": {
  "kernelspec": {
   "display_name": "Python 3.10 (mlflow-venv)",
   "language": "python",
   "name": "mlflow-venv"
  },
  "language_info": {
   "codemirror_mode": {
    "name": "ipython",
    "version": 3
   },
   "file_extension": ".py",
   "mimetype": "text/x-python",
   "name": "python",
   "nbconvert_exporter": "python",
   "pygments_lexer": "ipython3",
   "version": "3.10.18"
  }
 },
 "nbformat": 4,
 "nbformat_minor": 5
}
